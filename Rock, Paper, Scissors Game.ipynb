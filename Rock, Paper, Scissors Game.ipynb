{
 "cells": [
  {
   "cell_type": "code",
   "execution_count": 1,
   "id": "d96dfbd5",
   "metadata": {},
   "outputs": [],
   "source": [
    "import random"
   ]
  },
  {
   "cell_type": "code",
   "execution_count": 19,
   "id": "0777951e",
   "metadata": {},
   "outputs": [],
   "source": [
    "def game():\n",
    "    print(\"Lets play Rock, Paper, Scissors\")\n",
    "    \n",
    "    moves = {1:\"rock\",2:\"paper\",3:\"scissor\"}\n",
    "    \n",
    "    try:\n",
    "        player = int(input(f\"Enter \\n 1 for Rock \\n 2 for Paper \\n 3 for Scissor \\n\"))\n",
    "    except Exception:\n",
    "        print(\"Please enter valid input\")\n",
    "        \n",
    "    computer_move = random.randint(1, 3)\n",
    "    \n",
    "    print(f\"your move is {moves[player]} and Computer move is {moves[computer_move]}\")\n",
    "    \n",
    "    if player == computer_move :\n",
    "        print(\"its a draw\")\n",
    "        \n",
    "    elif (player == 1 and computer_move ==3 ) or (player == 2 and computer_move ==1) or (player == 3 and computer_move==2):\n",
    "        print(\"You Win\")\n",
    "    else:\n",
    "        print(\"YOU loss\")"
   ]
  },
  {
   "cell_type": "code",
   "execution_count": 24,
   "id": "8968b89a",
   "metadata": {},
   "outputs": [
    {
     "name": "stdout",
     "output_type": "stream",
     "text": [
      "Lets play Rock, Paper, Scissors\n",
      "Enter \n",
      " 1 for Rock \n",
      " 2 for Paper \n",
      " 3 for Scissor \n",
      "3\n",
      "your move is scissor and Computer move is paper\n",
      "You Win\n"
     ]
    }
   ],
   "source": [
    "game()"
   ]
  },
  {
   "cell_type": "code",
   "execution_count": null,
   "id": "dd76d8a1",
   "metadata": {},
   "outputs": [],
   "source": []
  }
 ],
 "metadata": {
  "kernelspec": {
   "display_name": "Python 3 (ipykernel)",
   "language": "python",
   "name": "python3"
  },
  "language_info": {
   "codemirror_mode": {
    "name": "ipython",
    "version": 3
   },
   "file_extension": ".py",
   "mimetype": "text/x-python",
   "name": "python",
   "nbconvert_exporter": "python",
   "pygments_lexer": "ipython3",
   "version": "3.9.13"
  }
 },
 "nbformat": 4,
 "nbformat_minor": 5
}
